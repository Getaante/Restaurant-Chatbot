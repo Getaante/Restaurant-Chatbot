{
 "cells": [
  {
   "cell_type": "code",
   "execution_count": 2,
   "metadata": {},
   "outputs": [],
   "source": [
    "from tkinter import*\n",
    "root = Tk()\n",
    "\n",
    "def send():\n",
    "    send = \"User:\"+ u.get()\n",
    "    text.insert(END,\"\\n\" + send)\n",
    "    if (u.get()==\"Hi\" or u.get()==\"hi\"):\n",
    "        text.insert(END, \"\\n\" + \"Bot:Hello, How may I assist you?\")\n",
    "    elif (u.get()=='hello' or u.get()==\"Hello\"):\n",
    "        text.insert(END,\"\\n\"+ \"Bot:Hi\")\n",
    "    elif (u.get()=='How are you?'):\n",
    "        text.insert(END, \"\\n\"+ \"Bot:I'm fine. How are you?\")\n",
    "    elif (u.get() == 'I am fine'):\n",
    "        text.insert(END, \"\\n\"+ \"Bot: Nice to hear that\")\n",
    "    elif (u.get() == \"Are you open on Christmas Day?\"):\n",
    "        text.insert(END, \"\\n\"+ \"Bot: Yes, we're open.\")\n",
    "    elif (u.get() == \"Do you have a special menu?\"):\n",
    "        text.insert(END, \"\\n\"+ \"Bot: Yes, we do have our special menu on top of our regular menu.\")\n",
    "    else:\n",
    "        text.insert(END, \"\\n\"+ \"Bot: I did not get it!\")\n",
    "        "
   ]
  },
  {
   "cell_type": "code",
   "execution_count": null,
   "metadata": {},
   "outputs": [],
   "source": [
    "text = Text(root, bg='Green')\n",
    "text.grid(row=0,column=0,columnspan=2)\n",
    "u=Entry(root,width=50)\n",
    "Go = Button(root,text='Go',bg=\"Red\",width=20,command=send).grid(row=1,column=1)\n",
    "u.grid(row=1,column=0)\n",
    "root.title('Chatbot')\n",
    "root.mainloop()"
   ]
  },
  {
   "cell_type": "code",
   "execution_count": null,
   "metadata": {},
   "outputs": [],
   "source": []
  },
  {
   "cell_type": "code",
   "execution_count": null,
   "metadata": {},
   "outputs": [],
   "source": []
  },
  {
   "cell_type": "code",
   "execution_count": null,
   "metadata": {},
   "outputs": [],
   "source": []
  }
 ],
 "metadata": {
  "kernelspec": {
   "display_name": "Python 3",
   "language": "python",
   "name": "python3"
  },
  "language_info": {
   "codemirror_mode": {
    "name": "ipython",
    "version": 3
   },
   "file_extension": ".py",
   "mimetype": "text/x-python",
   "name": "python",
   "nbconvert_exporter": "python",
   "pygments_lexer": "ipython3",
   "version": "3.7.4"
  }
 },
 "nbformat": 4,
 "nbformat_minor": 2
}
